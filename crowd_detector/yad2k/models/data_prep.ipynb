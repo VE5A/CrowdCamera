{
 "cells": [
  {
   "cell_type": "code",
   "execution_count": 1,
   "metadata": {},
   "outputs": [
    {
     "name": "stderr",
     "output_type": "stream",
     "text": [
      "Using TensorFlow backend.\n"
     ]
    }
   ],
   "source": [
    "import PIL\n",
    "import matplotlib.pyplot as plt\n",
    "from os.path import join,basename\n",
    "import yaml\n",
    "from keras.models import load_model, model_from_json\n",
    "%matplotlib inline\n",
    "from scipy.misc import imread\n",
    "import numpy as np\n",
    "from tqdm import tqdm\n",
    "from collections import defaultdict"
   ]
  },
  {
   "cell_type": "code",
   "execution_count": 2,
   "metadata": {
    "collapsed": true
   },
   "outputs": [],
   "source": [
    "images = yaml.load(open('./visionhack/test.yaml', 'rb').read())"
   ]
  },
  {
   "cell_type": "code",
   "execution_count": 3,
   "metadata": {
    "collapsed": true
   },
   "outputs": [],
   "source": [
    "counts = defaultdict(lambda:0)\n",
    "for im in images:\n",
    "    for box in im['boxes']:\n",
    "        counts[box['label']]+=1"
   ]
  },
  {
   "cell_type": "code",
   "execution_count": 4,
   "metadata": {},
   "outputs": [
    {
     "data": {
      "text/plain": [
       "defaultdict(<function __main__.<lambda>>,\n",
       "            {'Green': 7569, 'Red': 5321, 'Yellow': 154, 'off': 442})"
      ]
     },
     "execution_count": 4,
     "metadata": {},
     "output_type": "execute_result"
    }
   ],
   "source": [
    "counts"
   ]
  },
  {
   "cell_type": "code",
   "execution_count": 3,
   "metadata": {},
   "outputs": [
    {
     "data": {
      "text/plain": [
       "{'boxes': [{'label': 'Green',\n",
       "   'occluded': False,\n",
       "   'x_max': 752.25,\n",
       "   'x_min': 749.0,\n",
       "   'y_max': 355.125,\n",
       "   'y_min': 345.125}],\n",
       " 'path': '/net/pal-soc1.us.bosch.com/ifs/data/Shared_Exports/deep_learning_data/traffic_lights/university_run1/24068.png'}"
      ]
     },
     "execution_count": 3,
     "metadata": {},
     "output_type": "execute_result"
    }
   ],
   "source": [
    "images[0]"
   ]
  },
  {
   "cell_type": "code",
   "execution_count": 5,
   "metadata": {
    "collapsed": true
   },
   "outputs": [],
   "source": [
    "images_folder = './visionhack/rgb/test/'"
   ]
  },
  {
   "cell_type": "code",
   "execution_count": 6,
   "metadata": {
    "collapsed": true
   },
   "outputs": [],
   "source": [
    "images_paths = [images_folder + image['path'].split('/')[-1] for image in images]"
   ]
  },
  {
   "cell_type": "code",
   "execution_count": 6,
   "metadata": {
    "collapsed": true
   },
   "outputs": [],
   "source": [
    "labels = list(set(image['boxes'][0]['label'] for image in images if image['boxes'] != []))"
   ]
  },
  {
   "cell_type": "code",
   "execution_count": 7,
   "metadata": {
    "collapsed": true
   },
   "outputs": [],
   "source": [
    "labels_inverted = {label: index for index, label in enumerate(labels)}"
   ]
  },
  {
   "cell_type": "code",
   "execution_count": 8,
   "metadata": {
    "collapsed": true
   },
   "outputs": [],
   "source": [
    "def get_converted_boxes(image):\n",
    "    return [[labels_inverted[box['label']], box['x_min'], box['y_min'], box['x_max'], box['y_max']]\n",
    "            for box in image['boxes']]"
   ]
  },
  {
   "cell_type": "code",
   "execution_count": 9,
   "metadata": {
    "collapsed": true
   },
   "outputs": [],
   "source": [
    "def get_boxes_single_class(image):\n",
    "    return [[0, box['x_min'], box['y_min'], box['x_max'], box['y_max']]\n",
    "            for box in image['boxes']]"
   ]
  },
  {
   "cell_type": "code",
   "execution_count": 13,
   "metadata": {},
   "outputs": [
    {
     "name": "stderr",
     "output_type": "stream",
     "text": [
      "100%|██████████| 8334/8334 [04:38<00:00, 29.97it/s]\n"
     ]
    }
   ],
   "source": [
    "images_boxes = []\n",
    "images_arrs = []\n",
    "for image in tqdm(images):\n",
    "#     images_boxes.append(np.asarray(get_converted_boxes(image)))\n",
    "    images_boxes.append(np.asarray(get_boxes_single_class(image)))\n",
    "    im_arr = imread(join(images_folder,basename(image['path'])))\n",
    "    images_arrs.append(im_arr)\n",
    "np.savez('data_single_class.npz', images=images_arrs, boxes = images_boxes)"
   ]
  }
 ],
 "metadata": {
  "kernelspec": {
   "display_name": "Python 3",
   "language": "python",
   "name": "python3"
  },
  "language_info": {
   "codemirror_mode": {
    "name": "ipython",
    "version": 3
   },
   "file_extension": ".py",
   "mimetype": "text/x-python",
   "name": "python",
   "nbconvert_exporter": "python",
   "pygments_lexer": "ipython3",
   "version": "3.6.1"
  }
 },
 "nbformat": 4,
 "nbformat_minor": 2
}
